{
 "cells": [
  {
   "cell_type": "code",
   "execution_count": null,
   "id": "88ccc0f9",
   "metadata": {},
   "outputs": [],
   "source": [
    "# Add Matplotlib inline magic command\n",
    "\n",
    "%matplotlib inline\n",
    "\n",
    "# Dependencies and Setup\n",
    "\n",
    "import matplotlib.pyplot as plt\n",
    "\n",
    "import pandas as pd"
   ]
  },
  {
   "cell_type": "code",
   "execution_count": null,
   "id": "925145a2",
   "metadata": {},
   "outputs": [],
   "source": [
    "# Files to load\n",
    "\n",
    "city_data_to_load = \"Resources/city_data.csv\"\n",
    "\n",
    "ride_data_to_load = \"Resources/ride_data.csv\""
   ]
  },
  {
   "cell_type": "code",
   "execution_count": null,
   "id": "c90fa453",
   "metadata": {},
   "outputs": [],
   "source": [
    "# Read the city data file and store it in a pandas DataFrame.\n",
    "\n",
    "city_data_df = pd.read_csv(city_data_to_load)\n",
    "\n",
    "city_data_df.head(10)"
   ]
  },
  {
   "cell_type": "code",
   "execution_count": null,
   "id": "49db7269",
   "metadata": {},
   "outputs": [],
   "source": [
    "# Read the ride data file and store it in a pandas DataFrame.\n",
    "\n",
    "ride_data_df = pd.read_csv(ride_data_to_load)\n",
    "\n",
    "ride_data_df.head(10)"
   ]
  },
  {
   "cell_type": "code",
   "execution_count": null,
   "id": "3ecc18f1",
   "metadata": {},
   "outputs": [],
   "source": [
    "# Get the columns and rows that are not null.\n",
    "\n",
    "city_data.df.count()\n",
    "\n",
    "# Get the columns and the rows that are not null.\n",
    "\n",
    "city_data_df.isnull().sum()"
   ]
  },
  {
   "cell_type": "code",
   "execution_count": null,
   "id": "a0b64305",
   "metadata": {},
   "outputs": [],
   "source": [
    "# Get the data types of each column.\n",
    "\n",
    "city_data_df.dtypes"
   ]
  },
  {
   "cell_type": "code",
   "execution_count": null,
   "id": "680e7aae",
   "metadata": {},
   "outputs": [],
   "source": [
    "# Get the unique values of the type of city.\n",
    "\n",
    "city_data_df[\"type\"].unique()"
   ]
  },
  {
   "cell_type": "code",
   "execution_count": null,
   "id": "5bf29110",
   "metadata": {},
   "outputs": [],
   "source": [
    "# Get the number of data points from the Urban cities.\n",
    "\n",
    "sum(city_data_df[\"type\"]==\"Urban\")"
   ]
  },
  {
   "cell_type": "code",
   "execution_count": null,
   "id": "fa78cafc",
   "metadata": {},
   "outputs": [],
   "source": [
    "# Get the columns and rows that are not null.\n",
    "\n",
    "ride_data_df.count()\n",
    "\n",
    "# Get the columns and rows that are not null.\n",
    "\n",
    "ride_data_df.isnull().sum()"
   ]
  },
  {
   "cell_type": "code",
   "execution_count": null,
   "id": "b6f9a17f",
   "metadata": {},
   "outputs": [],
   "source": [
    "# Get the data types of each column.\n",
    "\n",
    "ride_data_df.dtypes"
   ]
  },
  {
   "cell_type": "code",
   "execution_count": null,
   "id": "a623814e",
   "metadata": {},
   "outputs": [],
   "source": [
    "# Combine the data into a single dataset\n",
    "\n",
    "pyber_data_df = pd.merge(ride_data_df, city_data_df, how=\"left\", on=[\"city\", \"city\"])\n",
    "\n",
    "\n",
    "# Display the DataFrame\n",
    "\n",
    "pyber_data_df.head()"
   ]
  },
  {
   "cell_type": "code",
   "execution_count": null,
   "id": "b418741a",
   "metadata": {},
   "outputs": [],
   "source": [
    "# Create the Urban city DataFrame.\n",
    "\n",
    "urban_cities_df = pyber_data_df[pyber_data_df[\"type\"] == \"Urban\"]\n",
    "\n",
    "urban_cities_df.head()"
   ]
  },
  {
   "cell_type": "code",
   "execution_count": null,
   "id": "cddc463e",
   "metadata": {},
   "outputs": [],
   "source": [
    "# Get the number of rides for urban cities.\n",
    "\n",
    "urban_ride_count = urban_cities_df.groupby([\"city\"]).count()[\"ride_id\"]\n",
    "\n",
    "urban_ride_count.head()"
   ]
  },
  {
   "cell_type": "code",
   "execution_count": null,
   "id": "98c4203e",
   "metadata": {},
   "outputs": [],
   "source": [
    "# Create the suburban and rural ride count.\n",
    "\n",
    "suburban_ride_count = suburban_cities_df.groupby([\"city\"]).count()[\"ride_id\"]\n",
    "\n",
    "rural_ride_count = rural_cities_df.groupby([\"city\"]).count()[\"ride_id\"]"
   ]
  },
  {
   "cell_type": "code",
   "execution_count": null,
   "id": "b111300a",
   "metadata": {},
   "outputs": [],
   "source": [
    "# Get average fare for each city in the urban cities.\n",
    "\n",
    "urban_avg_fare = urban_cities_df.groupby([\"city\"]).mean()[\"fare\"]\n",
    "\n",
    "urban_avg_fare.head()"
   ]
  },
  {
   "cell_type": "code",
   "execution_count": null,
   "id": "f283255c",
   "metadata": {},
   "outputs": [],
   "source": [
    "# Get average fare for each city in the suburban and rural cities.\n",
    "\n",
    "suburban_avg_fare = suburban_cities_df.groupby([\"city\"]).mean()[\"fare\"]\n",
    "\n",
    "rural_avg_fare = rural_cities_df.groupby([\"city\"]).mean()[\"fare\"]"
   ]
  },
  {
   "cell_type": "code",
   "execution_count": null,
   "id": "87cf07a5",
   "metadata": {},
   "outputs": [],
   "source": [
    "# Get the average number of drivers for each urban city.\n",
    "\n",
    "urban_driver_count = urban_cities_df.groupby([\"city\"]).mean()[\"driver_count\"]\n",
    "\n",
    "urban_driver_count.head()"
   ]
  },
  {
   "cell_type": "code",
   "execution_count": null,
   "id": "24ad25e2",
   "metadata": {},
   "outputs": [],
   "source": [
    "# Get the average number of drivers for each city for the suburban and rural cities.\n",
    "\n",
    "suburban_driver_count = suburban_cities_df.groupby([\"city\"]).mean()[\"driver_count\"]\n",
    "\n",
    "rural_driver_count = rural_cities_df.groupby([\"city\"]).mean()[\"driver_count\"]"
   ]
  },
  {
   "cell_type": "code",
   "execution_count": null,
   "id": "d9733383",
   "metadata": {},
   "outputs": [],
   "source": [
    "# Build the scatter plots for urban cities.\n",
    "\n",
    "plt.scatter(urban_ride_count, urban_avg_fare, s=urban_driver_count)"
   ]
  },
  {
   "cell_type": "code",
   "execution_count": null,
   "id": "0cc77325",
   "metadata": {},
   "outputs": [],
   "source": [
    "# Build the scatter plots for urban cities.\n",
    "\n",
    "plt.scatter(urban_ride_count,\n",
    "            \n",
    "      urban_avg_fare,\n",
    "            \n",
    "      s=10*urban_driver_count, c=\"coral\",\n",
    "            \n",
    "      edgecolor=\"black\", linewidths=1,\n",
    "            \n",
    "      alpha=0.8, label=\"Urban\")\n",
    "\n",
    "plt.title(\"PyBer Ride-Sharing Data (2019)\")\n",
    "\n",
    "plt.ylabel(\"Average Fare ($)\")\n",
    "\n",
    "plt.xlabel(\"Total Number of Rides (Per City)\")\n",
    "\n",
    "plt.grid(True)\n",
    "\n",
    "# Add the legend.\n",
    "\n",
    "plt.legend()"
   ]
  },
  {
   "cell_type": "code",
   "execution_count": null,
   "id": "39c289ab",
   "metadata": {},
   "outputs": [],
   "source": [
    "# Build the scatter plots for rural cities.\n",
    "\n",
    "plt.scatter(rural_ride_count,\n",
    "            \n",
    "      rural_avg_fare,\n",
    "            \n",
    "      s=10*rural_driver_count, c=\"gold\",\n",
    "            \n",
    "      edgecolor=\"black\", linewidths=1,\n",
    "            \n",
    "      alpha=0.8, label=\"Rural\")\n",
    "\n",
    "plt.title(\"PyBer Ride-Sharing Data (2019)\")\n",
    "\n",
    "plt.ylabel(\"Average Fare ($)\")\n",
    "\n",
    "plt.xlabel(\"Total Number of Rides (Per City)\")\n",
    "\n",
    "plt.grid(True)\n",
    "\n",
    "# Add the legend.\n",
    "\n",
    "plt.legend()"
   ]
  },
  {
   "cell_type": "code",
   "execution_count": null,
   "id": "13801b57",
   "metadata": {},
   "outputs": [],
   "source": [
    "# Build the scatter charts for each city type.\n",
    "\n",
    "plt.scatter(urban_ride_count,\n",
    "            \n",
    "      urban_avg_fare,\n",
    "            \n",
    "      s=10*urban_driver_count, c=\"coral\",\n",
    "            \n",
    "      edgecolor=\"black\", linewidths=1,\n",
    "            \n",
    "      alpha=0.8, label=\"Urban\")\n",
    "\n",
    "plt.scatter(suburban_ride_count,\n",
    "            \n",
    "      suburban_avg_fare,\n",
    "            \n",
    "      s=10*suburban_driver_count, c=\"skyblue\",\n",
    "            \n",
    "      edgecolor=\"black\", linewidths=1,\n",
    "            \n",
    "      alpha=0.8, label=\"Suburban\")\n",
    "\n",
    "\n",
    "plt.scatter(rural_ride_count,\n",
    "            \n",
    "      rural_avg_fare,\n",
    "            \n",
    "      s=10*rural_driver_count, c=\"gold\",\n",
    "            \n",
    "      edgecolor=\"black\", linewidths=1,\n",
    "            \n",
    "      alpha=0.8, label=\"Rural\")\n",
    "\n",
    "# Incorporate the other graph properties\n",
    "\n",
    "plt.title(\"PyBer Ride-Sharing Data (2019)\", fontsize=20)\n",
    "\n",
    "plt.ylabel(\"Average Fare ($)\", fontsize=12)\n",
    "\n",
    "plt.xlabel(\"Total Number of Rides (Per City)\", fontsize=12)\n",
    "\n",
    "plt.grid(True)\n",
    "\n",
    "# Create a legend\n",
    "\n",
    "lgnd = plt.legend(fontsize=\"12\", mode=\"Expanded\",\n",
    "                  \n",
    "         scatterpoints=1, loc=\"best\", title=\"City Types\")\n",
    "\n",
    "lgnd.legendHandles[0]._sizes = [75]\n",
    "\n",
    "lgnd.legendHandles[1]._sizes = [75]\n",
    "\n",
    "lgnd.legendHandles[2]._sizes = [75]\n",
    "\n",
    "lgnd.get_title().set_fontsize(12)\n",
    "\n",
    "# Show the plot\n",
    "\n",
    "plt.show()"
   ]
  },
  {
   "cell_type": "code",
   "execution_count": null,
   "id": "939094bc",
   "metadata": {},
   "outputs": [],
   "source": [
    "# Incorporate a text label about circle size.\n",
    "\n",
    "plt.text(42, 35, \"Note: Circle size correlates with driver count per city.\", fontsize=\"12\")"
   ]
  },
  {
   "cell_type": "code",
   "execution_count": null,
   "id": "324864eb",
   "metadata": {},
   "outputs": [],
   "source": [
    "# Save the figure.\n",
    "\n",
    "plt.savefig(\"analysis/Fig1.png\")"
   ]
  },
  {
   "cell_type": "code",
   "execution_count": null,
   "id": "c9b7f8d3",
   "metadata": {},
   "outputs": [],
   "source": [
    "# Get summary statistics.\n",
    "\n",
    "urban_cities_df.describe()"
   ]
  },
  {
   "cell_type": "code",
   "execution_count": null,
   "id": "c7de7e30",
   "metadata": {},
   "outputs": [],
   "source": [
    "# Get summary statistics.\n",
    "\n",
    "urban_ride_count.describe()"
   ]
  },
  {
   "cell_type": "code",
   "execution_count": null,
   "id": "06ee777d",
   "metadata": {},
   "outputs": [],
   "source": [
    "# Get the fares for the urban cities.\n",
    "\n",
    "urban_fares = urban_cities_df[\"fare\"]\n",
    "\n",
    "urban_fares.head()"
   ]
  },
  {
   "cell_type": "code",
   "execution_count": null,
   "id": "12a73b6c",
   "metadata": {},
   "outputs": [],
   "source": [
    "# Calculate the measures of central tendency for the average fare for the urban cities.\n",
    "\n",
    "mean_urban_fares = np.mean(urban_fares)\n",
    "\n",
    "print(f\"The mean fare price for urban trips is ${mean_urban_fares:.2f}.\")\n",
    "\n",
    "median_urban_fares = np.median(urban_fares)\n",
    "\n",
    "print(f\"The median fare price for urban trips is ${median_urban_fares:.2f}.\")\n",
    "\n",
    "mode_urban_fares = sts.mode(urban_fares)\n",
    "\n",
    "print(f\"The mode fare price for urban trips is {mode_urban_fares}.\")"
   ]
  },
  {
   "cell_type": "code",
   "execution_count": null,
   "id": "5f4fa3e0",
   "metadata": {},
   "outputs": [],
   "source": [
    "# Get the driver count data from the urban cities.\n",
    "\n",
    "urban_drivers = urban_cities_df['driver_count']\n",
    "\n",
    "urban_drivers.head()"
   ]
  },
  {
   "cell_type": "code",
   "execution_count": null,
   "id": "8cb1e1fa",
   "metadata": {},
   "outputs": [],
   "source": [
    "# Create a box-and-whisker plot for the urban cities ride count.\n",
    "\n",
    "x_labels = [\"Urban\"]\n",
    "\n",
    "fig, ax = plt.subplots()\n",
    "\n",
    "ax.boxplot(urban_ride_count, labels=x_labels)\n",
    "\n",
    "# Add the title, y-axis label and grid.\n",
    "\n",
    "ax.set_title('Ride Count Data (2019)')\n",
    "\n",
    "ax.set_ylabel('Number of Rides')\n",
    "\n",
    "ax.set_yticks(np.arange(10, 41, step=2.0))\n",
    "\n",
    "ax.grid()\n",
    "\n",
    "plt.show()"
   ]
  },
  {
   "cell_type": "code",
   "execution_count": null,
   "id": "1c870c34",
   "metadata": {},
   "outputs": [],
   "source": [
    "# Add all ride count box-and-whisker plots to the same graph.\n",
    "\n",
    "x_labels = [\"Urban\", \"Suburban\",\"Rural\"]\n",
    "\n",
    "ride_count_data = [urban_ride_count, suburban_ride_count, rural_ride_count]\n",
    "\n",
    "fig, ax = plt.subplots(figsize=(10, 6))\n",
    "\n",
    "ax.set_title('Ride Count Data (2019)',fontsize=20)\n",
    "\n",
    "ax.set_ylabel('Number of Rides',fontsize=14)\n",
    "\n",
    "ax.set_xlabel(\"City Types\",fontsize=14)\n",
    "\n",
    "ax.boxplot(ride_count_data, labels=x_labels)\n",
    "\n",
    "ax.set_yticks(np.arange(0, 45, step=3.0))\n",
    "\n",
    "ax.grid()\n",
    "\n",
    "# Save the figure.\n",
    "\n",
    "plt.savefig(\"analysis/Fig2.png\")\n",
    "\n",
    "plt.show()"
   ]
  },
  {
   "cell_type": "code",
   "execution_count": null,
   "id": "aa621374",
   "metadata": {},
   "outputs": [],
   "source": [
    "# Create a box-and-whisker plot for the urban fare data.\n",
    "\n",
    "x_labels = [\"Urban\"]\n",
    "\n",
    "fig, ax = plt.subplots()\n",
    "\n",
    "ax.boxplot(urban_fares, labels=x_labels)\n",
    "\n",
    "# Add the title, y-axis label and grid.\n",
    "\n",
    "ax.set_title('Ride Fare Data (2019)')\n",
    "\n",
    "ax.set_ylabel('Fare($USD)')\n",
    "\n",
    "ax.set_yticks(np.arange(0, 51, step=5.0))\n",
    "\n",
    "ax.grid()\n",
    "\n",
    "plt.show()\n",
    "\n",
    "print(\"Summary Statistics\")\n",
    "\n",
    "urban_fares.describe()"
   ]
  },
  {
   "cell_type": "code",
   "execution_count": null,
   "id": "ac617e26",
   "metadata": {},
   "outputs": [],
   "source": [
    "# Create the box-and-whisker plot for the urban driver count data.\n",
    "\n",
    "x_labels = [\"Urban\"]\n",
    "\n",
    "fig, ax = plt.subplots()\n",
    "\n",
    "ax.boxplot(urban_drivers,labels=x_labels)\n",
    "\n",
    "# Add the title, y-axis label and grid.\n",
    "\n",
    "ax.set_title('Driver Count Data (2019)')\n",
    "\n",
    "ax.set_ylabel('Number of Drivers)')\n",
    "\n",
    "ax.set_yticks(np.arange(0, 90, step=5.0))\n",
    "\n",
    "ax.grid()\n",
    "\n",
    "plt.show()\n",
    "\n",
    "print(\"Summary Statistics\")\n",
    "\n",
    "urban_drivers.describe()"
   ]
  },
  {
   "cell_type": "code",
   "execution_count": null,
   "id": "1d33c113",
   "metadata": {},
   "outputs": [],
   "source": [
    "# Get the sum of the fares for each city type.\n",
    "\n",
    "sum_fares_by_type = pyber_data_df.groupby([\"type\"]).sum()[\"fare\"]\n",
    "\n",
    "sum_fares_by_type"
   ]
  },
  {
   "cell_type": "code",
   "execution_count": null,
   "id": "197105cc",
   "metadata": {},
   "outputs": [],
   "source": [
    "# Get the sum of all the fares.\n",
    "\n",
    "total_fares = pyber_data_df[\"fare\"].sum()\n",
    "\n",
    "total_fares"
   ]
  },
  {
   "cell_type": "code",
   "execution_count": null,
   "id": "c66187d6",
   "metadata": {},
   "outputs": [],
   "source": [
    "# Calculate the percentage of fare for each city type.\n",
    "\n",
    "type_percents = 100 * pyber_data_df.groupby([\"type\"]).sum()[\"fare\"] / pyber_data_df[\"fare\"].sum()\n",
    "\n",
    "type_percents"
   ]
  },
  {
   "cell_type": "code",
   "execution_count": null,
   "id": "7d2c0f83",
   "metadata": {},
   "outputs": [],
   "source": [
    "# Import mpl to change the plot configurations using rcParams.\n",
    "\n",
    "import matplotlib as mpl\n",
    "\n",
    "# Build Pie Chart\n",
    "\n",
    "plt.subplots(figsize=(10, 6))\n",
    "\n",
    "# Build the percentage of fares by city type pie chart.\n",
    "\n",
    "plt.pie (type_percents,\n",
    "         \n",
    "    labels=[\"Rural\", \"Suburban\", \"Urban\"],\n",
    "         \n",
    "    colors=[\"gold\", \"lightskyblue\", \"lightcoral\"],\n",
    "         \n",
    "    explode=[0, 0, 0.1],\n",
    "         \n",
    "    autopct='%1.1f%%',\n",
    "         \n",
    "    shadow=True, startangle=150)\n",
    "\n",
    "plt.title(\"% of Total Fares by City Type\")\n",
    "\n",
    "# Change the default font size from 10 to 14.\n",
    "\n",
    "mpl.rcParams['font.size'] = 14\n",
    "\n",
    "# Save Figure\n",
    "\n",
    "plt.savefig(\"analysis/Fig5.png\")\n",
    "\n",
    "# Show Figure\n",
    "\n",
    "plt.show()"
   ]
  },
  {
   "cell_type": "code",
   "execution_count": null,
   "id": "c9e72315",
   "metadata": {},
   "outputs": [],
   "source": [
    "pyber_data_df.groupby([\"type\"]).count()[\"ride_id\"]\n",
    "\n",
    "pyber_data_df[\"ride_id\"].count()"
   ]
  },
  {
   "cell_type": "code",
   "execution_count": null,
   "id": "1b8ce374",
   "metadata": {},
   "outputs": [],
   "source": [
    "# Calculate the percentage of rides for each city type.\n",
    "\n",
    "ride_percents = 100 * pyber_data_df.groupby([\"type\"]).count()[\"ride_id\"] / pyber_data_df[\"ride_id\"].count()\n",
    "\n",
    "ride_percents"
   ]
  },
  {
   "cell_type": "code",
   "execution_count": null,
   "id": "513ab3b2",
   "metadata": {},
   "outputs": [],
   "source": [
    "# Build percentage of rides by city type pie chart.\n",
    "\n",
    "plt.subplots(figsize=(10, 6))\n",
    "\n",
    "plt.pie(ride_percents,\n",
    "        \n",
    "    labels=[\"Rural\", \"Suburban\", \"Urban\"],\n",
    "        \n",
    "    colors=[\"gold\", \"lightskyblue\", \"lightcoral\"],\n",
    "        \n",
    "    explode=[0, 0, 0.1],\n",
    "        \n",
    "    autopct='%1.1f%%',\n",
    "        \n",
    "    shadow=True, startangle=150)\n",
    "\n",
    "plt.title(\"% of Total Rides by City Type\")\n",
    "\n",
    "# Change the default font size from 10 to 14.\n",
    "\n",
    "mpl.rcParams['font.size'] = 14\n",
    "\n",
    "# Save Figure\n",
    "\n",
    "plt.savefig(\"analysis/Fig6.png\")\n",
    "\n",
    "# Show Figure\n",
    "\n",
    "plt.show()"
   ]
  },
  {
   "cell_type": "code",
   "execution_count": null,
   "id": "95783ba7",
   "metadata": {},
   "outputs": [],
   "source": [
    "# Calculate the percentage of drivers for each city type.\n",
    "\n",
    "driver_percents = 100 *\n",
    "\n",
    "city_data_df.groupby([\"type\"]).sum()[\"driver_count\"] /\n",
    "\n",
    "city_data_df[\"driver_count\"].sum()\n",
    "\n",
    "driver_percents"
   ]
  },
  {
   "cell_type": "code",
   "execution_count": null,
   "id": "40f6904b",
   "metadata": {},
   "outputs": [],
   "source": [
    "# Build percentage of rides by city type pie chart.\n",
    "\n",
    "plt.subplots(figsize=(10, 6))\n",
    "\n",
    "plt.pie(driver_percents,\n",
    "        \n",
    "    labels=[\"Rural\", \"Suburban\", \"Urban\"],\n",
    "        \n",
    "    colors=[\"gold\", \"lightskyblue\", \"lightcoral\"],\n",
    "        \n",
    "    explode=[0, 0, 0.1],\n",
    "        \n",
    "    autopct='%1.1f%%',\n",
    "        \n",
    "    shadow=True, startangle=165)\n",
    "\n",
    "plt.title(\"% of Total Drivers by City Type\")\n",
    "\n",
    "# Change the default font size from 10 to 14.\n",
    "\n",
    "mpl.rcParams['font.size'] = 14\n",
    "\n",
    "# Save Figure\n",
    "\n",
    "plt.savefig(\"analysis/Fig7.png\")\n",
    "\n",
    "# Show Figure\n",
    "\n",
    "plt.show()"
   ]
  }
 ],
 "metadata": {
  "kernelspec": {
   "display_name": "Pythondata",
   "language": "python",
   "name": "pythondata"
  },
  "language_info": {
   "codemirror_mode": {
    "name": "ipython",
    "version": 3
   },
   "file_extension": ".py",
   "mimetype": "text/x-python",
   "name": "python",
   "nbconvert_exporter": "python",
   "pygments_lexer": "ipython3",
   "version": "3.7.13"
  }
 },
 "nbformat": 4,
 "nbformat_minor": 5
}
