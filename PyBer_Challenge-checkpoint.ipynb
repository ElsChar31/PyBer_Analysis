{
 "cells": [
  {
   "cell_type": "code",
   "execution_count": 1,
   "id": "67bd1556",
   "metadata": {},
   "outputs": [
    {
     "name": "stdout",
     "output_type": "stream",
     "text": [
      "Requirement already satisfied: matplotlib in c:\\users\\lswor\\anaconda3\\envs\\pythondata\\lib\\site-packages (3.5.1)\n",
      "Requirement already satisfied: packaging>=20.0 in c:\\users\\lswor\\anaconda3\\envs\\pythondata\\lib\\site-packages (from matplotlib) (21.3)\n",
      "Requirement already satisfied: pyparsing>=2.2.1 in c:\\users\\lswor\\anaconda3\\envs\\pythondata\\lib\\site-packages (from matplotlib) (3.0.4)\n",
      "Requirement already satisfied: fonttools>=4.22.0 in c:\\users\\lswor\\anaconda3\\envs\\pythondata\\lib\\site-packages (from matplotlib) (4.25.0)\n",
      "Requirement already satisfied: pillow>=6.2.0 in c:\\users\\lswor\\anaconda3\\envs\\pythondata\\lib\\site-packages (from matplotlib) (9.0.1)\n",
      "Requirement already satisfied: cycler>=0.10 in c:\\users\\lswor\\anaconda3\\envs\\pythondata\\lib\\site-packages (from matplotlib) (0.11.0)\n",
      "Requirement already satisfied: python-dateutil>=2.7 in c:\\users\\lswor\\anaconda3\\envs\\pythondata\\lib\\site-packages (from matplotlib) (2.8.2)\n",
      "Requirement already satisfied: kiwisolver>=1.0.1 in c:\\users\\lswor\\anaconda3\\envs\\pythondata\\lib\\site-packages (from matplotlib) (1.3.2)\n",
      "Requirement already satisfied: numpy>=1.17 in c:\\users\\lswor\\anaconda3\\envs\\pythondata\\lib\\site-packages (from matplotlib) (1.21.5)\n",
      "Requirement already satisfied: six>=1.5 in c:\\users\\lswor\\anaconda3\\envs\\pythondata\\lib\\site-packages (from python-dateutil>=2.7->matplotlib) (1.16.0)\n",
      "Note: you may need to restart the kernel to use updated packages.\n"
     ]
    }
   ],
   "source": [
    "pip install matplotlib"
   ]
  },
  {
   "cell_type": "code",
   "execution_count": null,
   "id": "d1c0a6f9",
   "metadata": {},
   "outputs": [],
   "source": [
    "# Add Matplotlib inline magic command\n",
    "%matplotlib inline\n",
    "# Dependencies and Setup\n",
    "import matplotlib.pyplot as plt\n",
    "import pandas as pd\n",
    "\n",
    "# File to Load (Remember to change these)\n",
    "city_data_to_load = \"city_data.csv\"\n",
    "ride_data_to_load = \"ride_data.csv\"\n",
    "\n",
    "# Read the City and Ride Data\n",
    "city_data_df = pd.read_csv(city_data_to_load)\n",
    "ride_data_df = pd.read_csv(ride_data_to_load)"
   ]
  },
  {
   "cell_type": "code",
   "execution_count": null,
   "id": "e9489a7e",
   "metadata": {},
   "outputs": [],
   "source": [
    "# Combine the data into a single dataset\n",
    "pyber_data_df = pd.merge(ride_data_df, city_data_df, how=\"left\", on=[\"city\", \"city\"])\n",
    "\n",
    "# Display the data table for preview\n",
    "pyber_data_df.head()"
   ]
  },
  {
   "cell_type": "code",
   "execution_count": null,
   "id": "6bbce02a",
   "metadata": {},
   "outputs": [],
   "source": [
    "#  1. Get the total rides for each city type\n",
    "\n",
    "rural_ride_count = rural_cities_df.groupby([\"city\"]).count()[\"ride_id\"]\n",
    "\n",
    "suburban_ride_count = suburban_cities_df.groupby([\"city\"]).count()[\"ride_id\"]\n",
    "\n",
    "urban_ride_count = urban_cities_df.groupby([\"city\"]).count()[\"ride_id\"]"
   ]
  },
  {
   "cell_type": "code",
   "execution_count": null,
   "id": "52ed9ef4",
   "metadata": {},
   "outputs": [],
   "source": [
    "# 2. Get the total drivers for each city type\n",
    "\n",
    "rural_driver_count = rural_drivers_df.groupby([\"city\"]).count()[\"driver_id\"]\n",
    "\n",
    "suburban_driver_count = suburban_drivers_df.groupby([\"city\"]).count()[\"driver_id\"]\n",
    "\n",
    "urban_driver_count = urban_drivers_df.groupby([\"city\"]).count()[\"driver_id\"]"
   ]
  },
  {
   "cell_type": "code",
   "execution_count": null,
   "id": "4535156b",
   "metadata": {},
   "outputs": [],
   "source": [
    "#  3. Get the total amount of fares for each city type\n",
    "\n",
    "rural_fare_count = rural_fares_df.groupby([\"city\"]).count()[\"fare\"]\n",
    "\n",
    "suburban_fare_count = suburban_fares_df.groupby([\"city\"]).count()[\"fare\"]\n",
    "\n",
    "urban_fare_count = urban_fares_df.groupby([\"city\"]).count()[\"fare\"]"
   ]
  },
  {
   "cell_type": "code",
   "execution_count": null,
   "id": "a0d88538",
   "metadata": {},
   "outputs": [],
   "source": [
    "#  4. Get the average fare per ride for each city type. \n",
    "\n",
    "rural_avg_fare = rural_cities_df.groupby([\"city\"]).mean()[\"fare\"]\n",
    "\n",
    "rural_avg_fare.head()\n",
    "\n",
    "suburban_avg_fare = suburban_cities_df.groupby([\"city\"]).mean()[\"fare\"]\n",
    "\n",
    "suburban_avg_fare.head()\n",
    "\n",
    "urban_avg_fare = urban_cities_df.groupby([\"city\"]).mean()[\"fare\"]\n",
    "\n",
    "urban_avg_fare.head()"
   ]
  },
  {
   "cell_type": "code",
   "execution_count": null,
   "id": "6c1518b9",
   "metadata": {},
   "outputs": [],
   "source": [
    "# 5. Get the average fare per driver for each city type. \n",
    "\n",
    "rural_avg_driver = rural_cities_df.groupby([\"city\"]).mean()[\"driver_id\"]\n",
    "\n",
    "rural_avg_driver.head()\n",
    "\n",
    "suburban_avg_driver = suburban_cities_df.groupby([\"city\"]).mean()[\"driver_id\"]\n",
    "\n",
    "suburban_avg_driver.head()\n",
    "\n",
    "urban_avg_driver = urban_cities_df.groupby([\"city\"]).mean()[\"driver_id\"]\n",
    "\n",
    "urban_avg_driver.head()"
   ]
  },
  {
   "cell_type": "code",
   "execution_count": null,
   "id": "b21a3c64",
   "metadata": {},
   "outputs": [],
   "source": [
    "#  6. Create a PyBer summary DataFrame. \n",
    "\n",
    "type_cities_df = pyber_data_df[pyber_data_df][\"type\"].groupby == [\"Rural\"] + [\"Suburban\"] + [\"Urban\"]"
   ]
  },
  {
   "cell_type": "code",
   "execution_count": null,
   "id": "23c213c2",
   "metadata": {},
   "outputs": [],
   "source": [
    "#  7. Cleaning up the DataFrame. Delete the index name\n",
    "pyber_summary_df.index.name = None"
   ]
  },
  {
   "cell_type": "code",
   "execution_count": null,
   "id": "75371f8c",
   "metadata": {},
   "outputs": [],
   "source": [
    "#  8. Format the columns."
   ]
  },
  {
   "cell_type": "code",
   "execution_count": null,
   "id": "717bb486",
   "metadata": {},
   "outputs": [],
   "source": [
    "# Print the merged DataFrame for reference."
   ]
  },
  {
   "cell_type": "code",
   "execution_count": null,
   "id": "3598153b",
   "metadata": {},
   "outputs": [],
   "source": [
    "# 1. Using groupby() to create a new DataFrame showing the sum of the fares \n",
    "#  for each date where the indices are the city type and date.\n",
    "\n",
    "type_cities_df = pyber_data_df[pyber_data_df][\"type\"].groupby == [\"fare\"]"
   ]
  },
  {
   "cell_type": "code",
   "execution_count": null,
   "id": "b66d4f54",
   "metadata": {},
   "outputs": [],
   "source": [
    "# 2. Reset the index on the DataFrame you created in #1. This is needed to use the 'pivot()' function.\n",
    "# df = df.reset_index()\n",
    "\n",
    "type_cities_df = pyber_data_df.reset_index([pyber_data_df][\"type\"]).groupby == [\"Rural\"] + [\"Suburban\"] + [\"Urban\"]"
   ]
  },
  {
   "cell_type": "code",
   "execution_count": null,
   "id": "a6915bce",
   "metadata": {},
   "outputs": [],
   "source": [
    "# 3. Create a pivot table with the 'date' as the index, the columns ='type', and values='fare' \n",
    "# to get the total fares for each type of city by the date. "
   ]
  },
  {
   "cell_type": "code",
   "execution_count": null,
   "id": "501f285c",
   "metadata": {},
   "outputs": [],
   "source": [
    "# 4. Create a new DataFrame from the pivot table DataFrame using loc on the given dates, '2019-01-01':'2019-04-29'."
   ]
  },
  {
   "cell_type": "code",
   "execution_count": null,
   "id": "5edcd43d",
   "metadata": {},
   "outputs": [],
   "source": [
    "# 5. Set the \"date\" index to datetime datatype. This is necessary to use the resample() method in Step 8.\n",
    "# df.index = pd.to_datetime(df.index)"
   ]
  },
  {
   "cell_type": "code",
   "execution_count": null,
   "id": "29e3358d",
   "metadata": {},
   "outputs": [],
   "source": [
    "# 6. Check that the datatype for the index is datetime using df.info()"
   ]
  },
  {
   "cell_type": "code",
   "execution_count": null,
   "id": "0fd3759a",
   "metadata": {},
   "outputs": [],
   "source": [
    "# 7. Create a new DataFrame using the \"resample()\" function by week 'W' and get the sum of the fares for each week."
   ]
  },
  {
   "cell_type": "code",
   "execution_count": null,
   "id": "5a7aea56",
   "metadata": {},
   "outputs": [],
   "source": [
    "# 8. Using the object-oriented interface method, plot the resample DataFrame using the df.plot() function. \n",
    "\n",
    "# Import the style from Matplotlib.\n",
    "from matplotlib import style\n",
    "# Use the graph style fivethirtyeight.\n",
    "style.use('fivethirtyeight')\n",
    "\n"
   ]
  }
 ],
 "metadata": {
  "kernelspec": {
   "display_name": "Pythondata",
   "language": "python",
   "name": "pythondata"
  },
  "language_info": {
   "codemirror_mode": {
    "name": "ipython",
    "version": 3
   },
   "file_extension": ".py",
   "mimetype": "text/x-python",
   "name": "python",
   "nbconvert_exporter": "python",
   "pygments_lexer": "ipython3",
   "version": "3.7.13"
  }
 },
 "nbformat": 4,
 "nbformat_minor": 5
}
